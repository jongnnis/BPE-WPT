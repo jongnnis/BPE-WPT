{
  "nbformat": 4,
  "nbformat_minor": 0,
  "metadata": {
    "colab": {
      "provenance": []
    },
    "kernelspec": {
      "name": "python3",
      "display_name": "Python 3"
    },
    "language_info": {
      "name": "python"
    }
  },
  "cells": [
    {
      "cell_type": "code",
      "source": [
        "import re\n",
        "from collections import defaultdict\n",
        "from typing import Dict, List, Tuple\n",
        "from tqdm import tqdm"
      ],
      "metadata": {
        "id": "byCbKo3s9cDs"
      },
      "execution_count": 26,
      "outputs": []
    },
    {
      "cell_type": "code",
      "source": [
        "# 불용어 제거\n",
        "SPECIALS = \"\".join([\".\", \",\", \";\" ,\":\", \"!\",\"?\", \"'\", '\"', \" \" ])"
      ],
      "metadata": {
        "id": "pHHIeAil_9V9"
      },
      "execution_count": 27,
      "outputs": []
    },
    {
      "cell_type": "code",
      "source": [
        "def preprocess(text: str, only_kor: bool=True):\n",
        "  \"\"\" 한국어 문장을 옵션에 맞게 전처리 \"\"\"\n",
        "  # 한국어 모음과 특수 문자, 숫자 및 영어 제거\n",
        "  if only_kor:\n",
        "    text = re.sub(f\"[^가-힣| |]+\", \"\", text)\n",
        "  else:\n",
        "    text = re.sub(f\"[^가-힣|ㄱ-ㅎ|0-9|{SPECIALS}|a-zA-Z]+\", \"\", text)\n",
        "\n",
        "  # 연속 공백 제거\n",
        "  text = re.sub(\" +\", \"\", text)\n",
        "\n",
        "  # 좌우 불필요한 공백 제거\n",
        "  return text.strip()\n",
        "\n",
        "sent = \"ㅋㅋㅋㅋㅋㅋ 안녕하세요 ! \\\"저는\\\" cola를 좋아합니다.\"\n",
        "\n",
        "preprocess(sent)\n",
        "preprocess(sent, only_kor=False)"
      ],
      "metadata": {
        "colab": {
          "base_uri": "https://localhost:8080/",
          "height": 35
        },
        "id": "EvDXDBisFOYj",
        "outputId": "1315f395-c4e5-4140-b209-c1dc0727833f"
      },
      "execution_count": 28,
      "outputs": [
        {
          "output_type": "execute_result",
          "data": {
            "text/plain": [
              "'ㅋㅋㅋㅋㅋㅋ안녕하세요!\"저는\"cola를좋아합니다.'"
            ],
            "application/vnd.google.colaboratory.intrinsic+json": {
              "type": "string"
            }
          },
          "metadata": {},
          "execution_count": 28
        }
      ]
    },
    {
      "cell_type": "markdown",
      "source": [
        "# 1. get_vocab"
      ],
      "metadata": {
        "id": "YxlDR-HCIloN"
      }
    },
    {
      "cell_type": "code",
      "source": [
        "def get_vocab(f_name: str) -> Dict[str, int]:\n",
        "  \"\"\" 코퍼스 파일을 읽어와 단어 사전 구축 \"\"\"\n",
        "  vocab = defaultdict(int)\n",
        "  with open(f_name, \"r\", encoding=\"utf-8\") as corpus:\n",
        "    for line in corpus:\n",
        "      tokens = preprocess(line).strip().split()\n",
        "      for token in tokens:\n",
        "        vocab[\" \".join(list(token)) + \"</w>\"] += 1\n",
        "  return dict(vocab)"
      ],
      "metadata": {
        "id": "iEuCUsx4MOvY"
      },
      "execution_count": 29,
      "outputs": []
    },
    {
      "cell_type": "code",
      "source": [
        "# 더미 데이터로 실험 하기 위한 함수 구현\n",
        "def pseudo_get_vocab(corpus: List[str]) -> Dict[str, int]:\n",
        "  \"\"\"더미 데이터를 읽어와 단어 사전 구축\"\"\"\n",
        "  vocab = defaultdict(int)\n",
        "  for line in corpus:\n",
        "    tokens = preprocess(line).strip().split(\" \")\n",
        "    for token in tokens:\n",
        "      vocab[\" \".join(list(token)) + \" </w>\"] += 1\n",
        "  return dict(vocab)"
      ],
      "metadata": {
        "id": "UE4YFvUWMz9Q"
      },
      "execution_count": 30,
      "outputs": []
    },
    {
      "cell_type": "code",
      "source": [
        "# 원하는 문장 넣기\n",
        "corpus = [\n",
        "    \"오늘 점심에 배가 너무 고파서 밥을 너무 많이 먹었다.\",\n",
        "    \"오늘 점심에 배가 고파서 밥을 많이 먹었다.\",\n",
        "    \"오늘 배가 너무 고파서 점심에 밥을 너무 많이 먹었다.\",\n",
        "    \"오늘 점심에 배가 고파서 버스를 많이 먹었다.\",\n",
        "    \"펩시는 사랑하지 않아\",\n",
        "    \"어제 저녁에 밥을 너무 많이 먹었더니 배가 부르다.\",\n",
        "    \"이따가 오후 7시에 출발하는 비행기가 3시간 연착 되었다고 하네요.\"\n",
        "]\n"
      ],
      "metadata": {
        "id": "WxL1IL6PO_By"
      },
      "execution_count": 40,
      "outputs": []
    },
    {
      "cell_type": "code",
      "source": [
        "vocab = pseudo_get_vocab(corpus)\n",
        "vocab"
      ],
      "metadata": {
        "colab": {
          "base_uri": "https://localhost:8080/"
        },
        "id": "k9UA60nTP-WC",
        "outputId": "acdf60a8-300c-43d2-9f6f-27c0fdfa045f"
      },
      "execution_count": 32,
      "outputs": [
        {
          "output_type": "execute_result",
          "data": {
            "text/plain": [
              "{'나 는 나 를 사 랑 해 </w>': 1,\n",
              " '나 는 너 를 사 랑 해 </w>': 1,\n",
              " '콜 라 가 좋 아 </w>': 1,\n",
              " '딸 기 는 사 랑 하 지 않 아 </w>': 1,\n",
              " '펩 시 는 사 랑 하 지 않 아 </w>': 1,\n",
              " '네 가 사 랑 하 는 나 </w>': 1,\n",
              " '내 가 사 랑 하 는 너 </w>': 1}"
            ]
          },
          "metadata": {},
          "execution_count": 32
        }
      ]
    },
    {
      "cell_type": "code",
      "source": [
        "# 구축된 사전을 순회하며 사전 내 등록된 캐릭터 토큰과 등장 횟수를 반환\n",
        "def get_tokens(vocab: Dict[str, int]):\n",
        "  \"\"\"사전 내 등록된 토큰을 확인\"\"\"\n",
        "  result = defaultdict(int)\n",
        "  for word, freq in vocab.items():\n",
        "    tokens = word.split()\n",
        "    for token in tokens:\n",
        "      result[token] += freq\n",
        "\n",
        "  return dict(result)"
      ],
      "metadata": {
        "id": "CA88oyOOQIMp"
      },
      "execution_count": 33,
      "outputs": []
    },
    {
      "cell_type": "code",
      "source": [
        "tokens = get_tokens(vocab)\n",
        "tokens"
      ],
      "metadata": {
        "colab": {
          "base_uri": "https://localhost:8080/"
        },
        "id": "GsMP13IoQ0zL",
        "outputId": "a7f605d6-0ae4-4c28-ac3a-bf60ce1a6d74"
      },
      "execution_count": 34,
      "outputs": [
        {
          "output_type": "execute_result",
          "data": {
            "text/plain": [
              "{'나': 4,\n",
              " '는': 6,\n",
              " '를': 2,\n",
              " '사': 6,\n",
              " '랑': 6,\n",
              " '해': 2,\n",
              " '</w>': 7,\n",
              " '너': 2,\n",
              " '콜': 1,\n",
              " '라': 1,\n",
              " '가': 3,\n",
              " '좋': 1,\n",
              " '아': 3,\n",
              " '딸': 1,\n",
              " '기': 1,\n",
              " '하': 4,\n",
              " '지': 2,\n",
              " '않': 2,\n",
              " '펩': 1,\n",
              " '시': 1,\n",
              " '네': 1,\n",
              " '내': 1}"
            ]
          },
          "metadata": {},
          "execution_count": 34
        }
      ]
    },
    {
      "cell_type": "code",
      "source": [
        "# 자주 등장한 페어를 구하기\n",
        "def get_stats(vocab: Dict[str, int]):\n",
        "  \"\"\"사전을 활용한 바이그램 페어 구축\"\"\"\n",
        "  pairs = defaultdict(int)\n",
        "  for word, freq, in vocab.items():\n",
        "    symbols = word.split()\n",
        "    for i in range(len(symbols)-1):\n",
        "      pairs[symbols[i], symbols[i+1]] += freq\n",
        "  return dict(pairs)"
      ],
      "metadata": {
        "id": "EX7Q_FnyQ-R4"
      },
      "execution_count": 35,
      "outputs": []
    },
    {
      "cell_type": "code",
      "source": [
        "pairs = get_stats(vocab)\n",
        "pairs"
      ],
      "metadata": {
        "colab": {
          "base_uri": "https://localhost:8080/"
        },
        "id": "PAXqTlUwTFB0",
        "outputId": "7137641d-6cd9-4f6d-976c-e2b0a15e365f"
      },
      "execution_count": 37,
      "outputs": [
        {
          "output_type": "execute_result",
          "data": {
            "text/plain": [
              "{('나', '는'): 2,\n",
              " ('는', '나'): 2,\n",
              " ('나', '를'): 1,\n",
              " ('를', '사'): 2,\n",
              " ('사', '랑'): 6,\n",
              " ('랑', '해'): 2,\n",
              " ('해', '</w>'): 2,\n",
              " ('는', '너'): 2,\n",
              " ('너', '를'): 1,\n",
              " ('콜', '라'): 1,\n",
              " ('라', '가'): 1,\n",
              " ('가', '좋'): 1,\n",
              " ('좋', '아'): 1,\n",
              " ('아', '</w>'): 3,\n",
              " ('딸', '기'): 1,\n",
              " ('기', '는'): 1,\n",
              " ('는', '사'): 2,\n",
              " ('랑', '하'): 4,\n",
              " ('하', '지'): 2,\n",
              " ('지', '않'): 2,\n",
              " ('않', '아'): 2,\n",
              " ('펩', '시'): 1,\n",
              " ('시', '는'): 1,\n",
              " ('네', '가'): 1,\n",
              " ('가', '사'): 2,\n",
              " ('하', '는'): 2,\n",
              " ('나', '</w>'): 1,\n",
              " ('내', '가'): 1,\n",
              " ('너', '</w>'): 1}"
            ]
          },
          "metadata": {},
          "execution_count": 37
        }
      ]
    },
    {
      "cell_type": "code",
      "source": [
        "def merge_vocab(pair: Tuple[str, str],vocab: Dict[str, int]):\n",
        "  \"\"\"가장 자주 등장한 바이그램 페어를 엮어줌\"\"\"\n",
        "  result = defaultdict(dict)\n",
        "  for word in vocab:\n",
        "    paired = word.replace(\" \".join(pair), \"\".join(pair))\n",
        "    result[paired] = vocab[word]\n",
        "  return dict(result)"
      ],
      "metadata": {
        "id": "4edgQGdHTHuZ"
      },
      "execution_count": 38,
      "outputs": []
    },
    {
      "cell_type": "code",
      "source": [
        "num_merges = 5\n",
        "\n",
        "for i in range(num_merges):\n",
        "  pairs = get_stats(vocab)\n",
        "  if not pairs:\n",
        "    break\n",
        "  best = max(pairs, key=pairs.get)\n",
        "  vocab = merge_vocab(best, vocab)\n",
        "  tokens = get_tokens(vocab)\n",
        "  print(f\"lter: {i+1}\\n'\"\n",
        "        f\"Best pair: {best}\\n\"\n",
        "        f\"Tokens: {tokens}\\n\"\n",
        "        f\"Number of tokens: {len(tokens)}\\n\")\n"
      ],
      "metadata": {
        "colab": {
          "base_uri": "https://localhost:8080/"
        },
        "id": "qC7a91BrUCbt",
        "outputId": "6a438adb-2a50-480b-b9e3-1eab5c04be3e"
      },
      "execution_count": 39,
      "outputs": [
        {
          "output_type": "stream",
          "name": "stdout",
          "text": [
            "lter: 1\n",
            "'Best pair: ('사', '랑')\n",
            "Tokens: {'나': 4, '는': 6, '를': 2, '사랑': 6, '해': 2, '</w>': 7, '너': 2, '콜': 1, '라': 1, '가': 3, '좋': 1, '아': 3, '딸': 1, '기': 1, '하': 4, '지': 2, '않': 2, '펩': 1, '시': 1, '네': 1, '내': 1}\n",
            "Number of tokens: 21\n",
            "\n",
            "lter: 2\n",
            "'Best pair: ('사랑', '하')\n",
            "Tokens: {'나': 4, '는': 6, '를': 2, '사랑': 2, '해': 2, '</w>': 7, '너': 2, '콜': 1, '라': 1, '가': 3, '좋': 1, '아': 3, '딸': 1, '기': 1, '사랑하': 4, '지': 2, '않': 2, '펩': 1, '시': 1, '네': 1, '내': 1}\n",
            "Number of tokens: 21\n",
            "\n",
            "lter: 3\n",
            "'Best pair: ('아', '</w>')\n",
            "Tokens: {'나': 4, '는': 6, '를': 2, '사랑': 2, '해': 2, '</w>': 4, '너': 2, '콜': 1, '라': 1, '가': 3, '좋': 1, '아</w>': 3, '딸': 1, '기': 1, '사랑하': 4, '지': 2, '않': 2, '펩': 1, '시': 1, '네': 1, '내': 1}\n",
            "Number of tokens: 21\n",
            "\n",
            "lter: 4\n",
            "'Best pair: ('나', '는')\n",
            "Tokens: {'나는': 2, '나': 2, '를': 2, '사랑': 2, '해': 2, '</w>': 4, '너': 2, '콜': 1, '라': 1, '가': 3, '좋': 1, '아</w>': 3, '딸': 1, '기': 1, '는': 4, '사랑하': 4, '지': 2, '않': 2, '펩': 1, '시': 1, '네': 1, '내': 1}\n",
            "Number of tokens: 22\n",
            "\n",
            "lter: 5\n",
            "'Best pair: ('를', '사랑')\n",
            "Tokens: {'나는': 2, '나': 2, '를사랑': 2, '해': 2, '</w>': 4, '너': 2, '콜': 1, '라': 1, '가': 3, '좋': 1, '아</w>': 3, '딸': 1, '기': 1, '는': 4, '사랑하': 4, '지': 2, '않': 2, '펩': 1, '시': 1, '네': 1, '내': 1}\n",
            "Number of tokens: 21\n",
            "\n"
          ]
        }
      ]
    },
    {
      "cell_type": "markdown",
      "source": [
        "### 결론\n",
        "BPE 를 활용한 tokenizer는 최장 길이 토큰의 매칭을 우선적으로 적용 -> 사전을 단어 길이 기준의 내림차순으로 정렬"
      ],
      "metadata": {
        "id": "J6ppb2iZWQUE"
      }
    },
    {
      "cell_type": "code",
      "source": [],
      "metadata": {
        "id": "tfS0wH0XYHOj"
      },
      "execution_count": null,
      "outputs": []
    }
  ]
}